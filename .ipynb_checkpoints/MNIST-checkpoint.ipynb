{
 "cells": [
  {
   "cell_type": "code",
   "execution_count": 5,
   "id": "42669e86-0441-4603-a736-eb002605748a",
   "metadata": {},
   "outputs": [],
   "source": [
    "from torch import *\n",
    "from torchvision import *"
   ]
  },
  {
   "cell_type": "code",
   "execution_count": 6,
   "id": "21f9e84a-a730-400c-a4b3-132b9c43e241",
   "metadata": {},
   "outputs": [],
   "source": [
    "transform = transforms.Compose([transforms.ToTensor(),\n",
    "                                transforms.Normalize((0.5,), (0.5,))])"
   ]
  },
  {
   "cell_type": "code",
   "execution_count": 7,
   "id": "124453d7-79ca-4db7-99c2-d4bc2b5034e3",
   "metadata": {},
   "outputs": [],
   "source": [
    "trainset = datasets.MNIST('f/ai_notebook/images/MNIST_data/', download=True, train=True, transform=transform)\n",
    "trainloader = torch.utils.data.DataLoader(trainset, batch_size=64, shuffle=True)"
   ]
  },
  {
   "cell_type": "code",
   "execution_count": 8,
   "id": "d348ba10-7832-43d9-897e-a98132a6e980",
   "metadata": {},
   "outputs": [],
   "source": [
    "testset = datasets.MNIST('f/ai_notebook/images/MNIST_data/', download=True, train=False, transform=transform)\n",
    "testloader = torch.utils.data.DataLoader(testset, batch_size=64, shuffle=False)"
   ]
  },
  {
   "cell_type": "code",
   "execution_count": null,
   "id": "24fee2e9-21ed-4471-b136-804b8518660a",
   "metadata": {},
   "outputs": [],
   "source": []
  },
  {
   "cell_type": "code",
   "execution_count": null,
   "id": "d147485d-a2a8-49bd-87c9-b609086cd35e",
   "metadata": {},
   "outputs": [],
   "source": []
  }
 ],
 "metadata": {
  "kernelspec": {
   "display_name": "Python 3 (ipykernel)",
   "language": "python",
   "name": "python3"
  },
  "language_info": {
   "codemirror_mode": {
    "name": "ipython",
    "version": 3
   },
   "file_extension": ".py",
   "mimetype": "text/x-python",
   "name": "python",
   "nbconvert_exporter": "python",
   "pygments_lexer": "ipython3",
   "version": "3.9.10"
  }
 },
 "nbformat": 4,
 "nbformat_minor": 5
}
